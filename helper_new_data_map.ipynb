{
 "cells": [
  {
   "cell_type": "code",
   "execution_count": 1,
   "metadata": {},
   "outputs": [
    {
     "name": "stderr",
     "output_type": "stream",
     "text": [
      "Warning: Ignoring non-Spark config property: packages\n",
      "25/04/05 22:09:20 WARN Utils: Your hostname, cj-OptiPlex-3020 resolves to a loopback address: 127.0.1.1; using 192.168.15.34 instead (on interface enp2s0)\n",
      "25/04/05 22:09:20 WARN Utils: Set SPARK_LOCAL_IP if you need to bind to another address\n",
      "Setting default log level to \"WARN\".\n",
      "To adjust logging level use sc.setLogLevel(newLevel). For SparkR, use setLogLevel(newLevel).\n",
      "25/04/05 22:09:21 WARN NativeCodeLoader: Unable to load native-hadoop library for your platform... using builtin-java classes where applicable\n",
      "25/04/05 22:09:21 WARN Utils: Service 'SparkUI' could not bind on port 4040. Attempting port 4041.\n"
     ]
    }
   ],
   "source": [
    "from pyspark.sql import SparkSession\n",
    "spark = (SparkSession.builder\n",
    "    .appName('Tester')\n",
    "    .config(\"packages\", \"org.apache.spark:mysql-connector-java-8.0.13.jar\")\n",
    "    .getOrCreate()\n",
    ")\n",
    "spark.sparkContext.setLogLevel(\"OFF\")"
   ]
  },
  {
   "cell_type": "code",
   "execution_count": 2,
   "metadata": {},
   "outputs": [
    {
     "name": "stderr",
     "output_type": "stream",
     "text": [
      "                                                                                \r"
     ]
    }
   ],
   "source": [
    "pathNewDataMap = f'./lab/jobs/new_data/new_data_map'\n",
    "df = (spark.read.parquet(pathNewDataMap))"
   ]
  },
  {
   "cell_type": "code",
   "execution_count": 3,
   "metadata": {},
   "outputs": [
    {
     "name": "stdout",
     "output_type": "stream",
     "text": [
      "+-----------+-------------------+---------------------------------------------------+\n",
      "|table      |date               |path                                               |\n",
      "+-----------+-------------------+---------------------------------------------------+\n",
      "|itens_venda|2025-04-03 22:29:48|./lab/jobs/new_data/itens_venda/2025-04-03 22:29:48|\n",
      "|itens_venda|2025-04-03 23:05:27|./lab/jobs/new_data/itens_venda/2025-04-03 23:05:27|\n",
      "|itens_venda|2025-04-03 23:04:57|./lab/jobs/new_data/itens_venda/2025-04-03 23:04:57|\n",
      "|itens_venda|2025-04-05 20:32:58|./lab/jobs/new_data/itens_venda/2025-04-05 20:32:58|\n",
      "|itens_venda|2025-04-03 22:27:13|./lab/jobs/new_data/itens_venda/2025-04-03 22:27:13|\n",
      "|itens_venda|2025-04-03 23:02:22|./lab/jobs/new_data/itens_venda/2025-04-03 23:02:22|\n",
      "|itens_venda|2025-04-03 22:32:53|./lab/jobs/new_data/itens_venda/2025-04-03 22:32:53|\n",
      "|itens_venda|2025-04-05 21:35:31|./lab/jobs/new_data/itens_venda/2025-04-05 21:35:31|\n",
      "|vendedores |2025-04-05 20:25:31|./lab/jobs/new_data/vendedores/2025-04-05 20:25:31 |\n",
      "|vendedores |2025-03-13 23:59:20|./lab/jobs/new_data/vendedores/2025-03-13 23:59:20 |\n",
      "|vendedores |2025-04-03 22:36:12|./lab/jobs/new_data/vendedores/2025-04-03 22:36:12 |\n",
      "|clientes   |2025-03-13 23:59:20|./lab/jobs/new_data/clientes/2025-03-13 23:59:20   |\n",
      "|produtos   |2025-04-05 20:25:31|./lab/jobs/new_data/produtos/2025-04-05 20:25:31   |\n",
      "|clientes   |2025-04-05 20:25:31|./lab/jobs/new_data/clientes/2025-04-05 20:25:31   |\n",
      "|produtos   |2025-03-13 23:59:20|./lab/jobs/new_data/produtos/2025-03-13 23:59:20   |\n",
      "|clientes   |2025-04-03 22:36:12|./lab/jobs/new_data/clientes/2025-04-03 22:36:12   |\n",
      "|produtos   |2025-04-03 22:36:12|./lab/jobs/new_data/produtos/2025-04-03 22:36:12   |\n",
      "|vendas     |2025-04-03 22:27:08|./lab/jobs/new_data/vendas/2025-04-03 22:27:08     |\n",
      "|vendas     |2025-04-03 23:05:22|./lab/jobs/new_data/vendas/2025-04-03 23:05:22     |\n",
      "|vendas     |2025-04-03 23:02:22|./lab/jobs/new_data/vendas/2025-04-03 23:02:22     |\n",
      "|vendas     |2025-04-03 22:29:48|./lab/jobs/new_data/vendas/2025-04-03 22:29:48     |\n",
      "|vendas     |2025-04-03 22:32:48|./lab/jobs/new_data/vendas/2025-04-03 22:32:48     |\n",
      "|vendas     |2025-04-05 21:35:26|./lab/jobs/new_data/vendas/2025-04-05 21:35:26     |\n",
      "|vendas     |2025-04-03 23:04:57|./lab/jobs/new_data/vendas/2025-04-03 23:04:57     |\n",
      "|vendas     |2025-04-05 20:32:53|./lab/jobs/new_data/vendas/2025-04-05 20:32:53     |\n",
      "+-----------+-------------------+---------------------------------------------------+\n",
      "\n"
     ]
    }
   ],
   "source": [
    "df.show(100, truncate=False)"
   ]
  },
  {
   "cell_type": "code",
   "execution_count": null,
   "metadata": {},
   "outputs": [],
   "source": []
  }
 ],
 "metadata": {
  "kernelspec": {
   "display_name": "Python 3",
   "language": "python",
   "name": "python3"
  },
  "language_info": {
   "codemirror_mode": {
    "name": "ipython",
    "version": 3
   },
   "file_extension": ".py",
   "mimetype": "text/x-python",
   "name": "python",
   "nbconvert_exporter": "python",
   "pygments_lexer": "ipython3",
   "version": "3.10.12"
  }
 },
 "nbformat": 4,
 "nbformat_minor": 2
}
