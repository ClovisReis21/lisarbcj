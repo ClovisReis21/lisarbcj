{
 "cells": [
  {
   "cell_type": "code",
   "execution_count": 1,
   "metadata": {},
   "outputs": [],
   "source": [
    "from pyspark.sql import SparkSession\n",
    "import pyspark.sql.functions as F"
   ]
  },
  {
   "cell_type": "code",
   "execution_count": 2,
   "metadata": {},
   "outputs": [
    {
     "name": "stderr",
     "output_type": "stream",
     "text": [
      "Warning: Ignoring non-Spark config property: packages\n",
      "25/04/15 06:49:06 WARN Utils: Your hostname, cj-OptiPlex-3020 resolves to a loopback address: 127.0.1.1; using 192.168.15.34 instead (on interface enp2s0)\n",
      "25/04/15 06:49:06 WARN Utils: Set SPARK_LOCAL_IP if you need to bind to another address\n",
      "Setting default log level to \"WARN\".\n",
      "To adjust logging level use sc.setLogLevel(newLevel). For SparkR, use setLogLevel(newLevel).\n",
      "25/04/15 06:49:07 WARN NativeCodeLoader: Unable to load native-hadoop library for your platform... using builtin-java classes where applicable\n",
      "25/04/15 06:49:07 WARN Utils: Service 'SparkUI' could not bind on port 4040. Attempting port 4041.\n"
     ]
    }
   ],
   "source": [
    "spark = (SparkSession.builder\n",
    "    .appName('Tester')\n",
    "    .config(\"packages\", \"org.apache.spark:mysql-connector-java-8.0.13.jar\")\n",
    "    .getOrCreate()\n",
    ")\n",
    "spark.sparkContext.setLogLevel(\"OFF\")"
   ]
  },
  {
   "cell_type": "markdown",
   "metadata": {},
   "source": [
    "FATURAMENTO DIARIO"
   ]
  },
  {
   "cell_type": "code",
   "execution_count": 7,
   "metadata": {},
   "outputs": [
    {
     "name": "stdout",
     "output_type": "stream",
     "text": [
      "+----------+--------+----------+--------------+------------+\n",
      "|      data|maior_id|qtd_vendas|total_faturado|ticket_medio|\n",
      "+----------+--------+----------+--------------+------------+\n",
      "|2025-04-14|    4000|      4000|   73305270.00|    18326.32|\n",
      "|2025-04-15|   12873|      6873|  125083679.00|    18199.28|\n",
      "+----------+--------+----------+--------------+------------+\n",
      "\n"
     ]
    }
   ],
   "source": [
    "faturamento_diario_df = (spark.read.parquet('./lab/jobs/views/batch/faturamento_diario')) # ./views/faturamento_diario\n",
    "faturamento_diario_df.where((F.col('data') > '2025-04-12')).show()"
   ]
  },
  {
   "cell_type": "markdown",
   "metadata": {},
   "source": []
  },
  {
   "cell_type": "markdown",
   "metadata": {},
   "source": [
    "TICKET MEDIO"
   ]
  },
  {
   "cell_type": "code",
   "execution_count": 4,
   "metadata": {},
   "outputs": [
    {
     "name": "stdout",
     "output_type": "stream",
     "text": [
      "+--------------------+--------+----------+-----------+------------+\n",
      "|     hash_id_cliente|maior_id|qtd_vendas|total_gasto|ticket_medio|\n",
      "+--------------------+--------+----------+-----------+------------+\n",
      "|011af72a910ac4acf...|   12829|        59| 1247403.00|    21142.42|\n",
      "|01d54579da446ae1e...|   12611|        49| 1164718.00|    23769.76|\n",
      "|02d20bbd7e394ad59...|   11225|        56| 1189741.00|    21245.38|\n",
      "|031b4af5197ec30a9...|   12734|        54|  798299.00|    14783.31|\n",
      "|043066daf2109523a...|   12379|        46|  833725.00|    18124.46|\n",
      "|05ada863a4cf9660f...|   12621|        46|  979758.00|    21299.09|\n",
      "|08490295488a11890...|   12793|        45|  742864.00|    16508.09|\n",
      "|093434a3ee9e0a010...|   12109|        52| 1289098.00|    24790.35|\n",
      "|0a2d643bfd24a028c...|   12712|        44|  830778.00|    18881.32|\n",
      "|0a5b046d07f6f971b...|   12765|        48|  803912.00|    16748.17|\n",
      "+--------------------+--------+----------+-----------+------------+\n",
      "only showing top 10 rows\n",
      "\n"
     ]
    }
   ],
   "source": [
    "ticket_medio_cliente_df = (spark.read.parquet('./lab/jobs/views/batch/ticket_medio_cliente')) # ./views/faturamento_diario\n",
    "ticket_medio_cliente_df.show(10)"
   ]
  },
  {
   "cell_type": "markdown",
   "metadata": {},
   "source": [
    "FATURAMENTO VENDEDOR"
   ]
  },
  {
   "cell_type": "code",
   "execution_count": 5,
   "metadata": {},
   "outputs": [
    {
     "name": "stdout",
     "output_type": "stream",
     "text": [
      "+--------------------+--------+----------+-------------+------------+\n",
      "|    hash_id_vendedor|maior_id|qtd_vendas|total_vendido|ticket_medio|\n",
      "+--------------------+--------+----------+-------------+------------+\n",
      "|19581e27de7ced00f...|   12870|      1440|  27044221.00|    18780.71|\n",
      "|2c624232cdd221771...|   12863|      1383|  24909239.00|    18011.02|\n",
      "|4b227777d4dd1fc61...|   12867|      1450|  27334279.00|    18851.23|\n",
      "|4e07408562bedb8b6...|   12866|      1351|  24462130.00|    18106.68|\n",
      "|6b86b273ff34fce19...|   12873|      1453|  26720957.00|    18390.20|\n",
      "|7902699be42c8a8e4...|   12872|      1437|  24486735.00|    17040.18|\n",
      "|d4735e3a265e16eee...|   12864|      1427|  26592546.00|    18635.28|\n",
      "|e7f6c011776e8db7c...|   12869|      1477|  26459273.00|    17914.20|\n",
      "|ef2d127de37b942ba...|   12860|      1455|  25821284.00|    17746.59|\n",
      "+--------------------+--------+----------+-------------+------------+\n",
      "\n"
     ]
    }
   ],
   "source": [
    "vendas_por_vendedor_df = (spark.read.parquet('./lab/jobs/views/batch/vendas_por_vendedor')) # ./views/faturamento_diario\n",
    "vendas_por_vendedor_df.show()"
   ]
  },
  {
   "cell_type": "code",
   "execution_count": null,
   "metadata": {},
   "outputs": [],
   "source": []
  }
 ],
 "metadata": {
  "kernelspec": {
   "display_name": "Python 3",
   "language": "python",
   "name": "python3"
  },
  "language_info": {
   "codemirror_mode": {
    "name": "ipython",
    "version": 3
   },
   "file_extension": ".py",
   "mimetype": "text/x-python",
   "name": "python",
   "nbconvert_exporter": "python",
   "pygments_lexer": "ipython3",
   "version": "3.10.12"
  }
 },
 "nbformat": 4,
 "nbformat_minor": 2
}
