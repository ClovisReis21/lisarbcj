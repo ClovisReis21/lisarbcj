{
 "cells": [
  {
   "cell_type": "code",
   "execution_count": 1,
   "metadata": {},
   "outputs": [],
   "source": [
    "from pyspark.sql import SparkSession\n",
    "import pyspark.sql.functions as F"
   ]
  },
  {
   "cell_type": "code",
   "execution_count": 2,
   "metadata": {},
   "outputs": [
    {
     "name": "stderr",
     "output_type": "stream",
     "text": [
      "Warning: Ignoring non-Spark config property: packages\n",
      "25/04/13 15:48:50 WARN Utils: Your hostname, cj-OptiPlex-3020 resolves to a loopback address: 127.0.1.1; using 172.18.0.1 instead (on interface br-1602a4c2a591)\n",
      "25/04/13 15:48:50 WARN Utils: Set SPARK_LOCAL_IP if you need to bind to another address\n",
      "Setting default log level to \"WARN\".\n",
      "To adjust logging level use sc.setLogLevel(newLevel). For SparkR, use setLogLevel(newLevel).\n",
      "25/04/13 15:48:50 WARN NativeCodeLoader: Unable to load native-hadoop library for your platform... using builtin-java classes where applicable\n",
      "25/04/13 15:48:51 WARN Utils: Service 'SparkUI' could not bind on port 4040. Attempting port 4041.\n"
     ]
    }
   ],
   "source": [
    "spark = (SparkSession.builder\n",
    "    .appName('Tester')\n",
    "    .config(\"packages\", \"org.apache.spark:mysql-connector-java-8.0.13.jar\")\n",
    "    .getOrCreate()\n",
    ")\n",
    "spark.sparkContext.setLogLevel(\"OFF\")"
   ]
  },
  {
   "cell_type": "markdown",
   "metadata": {},
   "source": [
    "FATURAMENTO DIARIO"
   ]
  },
  {
   "cell_type": "code",
   "execution_count": 3,
   "metadata": {},
   "outputs": [
    {
     "name": "stdout",
     "output_type": "stream",
     "text": [
      "+----------+----------+--------------+------------+\n",
      "|      data|qtd_vendas|total_faturado|ticket_medio|\n",
      "+----------+----------+--------------+------------+\n",
      "|2025-03-12|        44|     802010.00|    18227.50|\n",
      "+----------+----------+--------------+------------+\n",
      "\n"
     ]
    }
   ],
   "source": [
    "faturamento_diario_df = (spark.read.parquet('./lab/jobs/views/faturamento_diario')) # ./views/faturamento_diario\n",
    "faturamento_diario_df.show(10)"
   ]
  },
  {
   "cell_type": "markdown",
   "metadata": {},
   "source": []
  },
  {
   "cell_type": "markdown",
   "metadata": {},
   "source": [
    "TICKET MEDIO"
   ]
  },
  {
   "cell_type": "code",
   "execution_count": 4,
   "metadata": {},
   "outputs": [
    {
     "name": "stdout",
     "output_type": "stream",
     "text": [
      "+--------------------+----------+-----------+------------+\n",
      "|     hash_id_cliente|qtd_vendas|total_gasto|ticket_medio|\n",
      "+--------------------+----------+-----------+------------+\n",
      "|043066daf2109523a...|         1|    1128.00|     1128.00|\n",
      "|0f8ef3377b30fc47f...|         1|    7658.00|     7658.00|\n",
      "|1253e9373e781b750...|         1|     460.00|      460.00|\n",
      "|2397346b45823e070...|         1|   70816.00|    70816.00|\n",
      "|2abaca4911e68fa9b...|         1|   55206.00|    55206.00|\n",
      "|2c7d5490e6050836f...|         1|     690.00|      690.00|\n",
      "|31489056e0916d59f...|         2|   98447.00|    49223.50|\n",
      "|349c41201b62db851...|         1|     940.00|      940.00|\n",
      "|35135aaa6cc23891b...|         1|   20685.00|    20685.00|\n",
      "|36790ecd55c2030dc...|         1|    1240.00|     1240.00|\n",
      "+--------------------+----------+-----------+------------+\n",
      "only showing top 10 rows\n",
      "\n"
     ]
    }
   ],
   "source": [
    "ticket_medio_cliente_df = (spark.read.parquet('./lab/jobs/views/ticket_medio_cliente')) # ./views/faturamento_diario\n",
    "ticket_medio_cliente_df.show(10)"
   ]
  },
  {
   "cell_type": "markdown",
   "metadata": {},
   "source": [
    "FATURAMENTO VENDEDOR"
   ]
  },
  {
   "cell_type": "code",
   "execution_count": 6,
   "metadata": {},
   "outputs": [
    {
     "name": "stdout",
     "output_type": "stream",
     "text": [
      "+--------------------+----------+-------------+------------+\n",
      "|    hash_id_vendedor|qtd_vendas|total_vendido|ticket_medio|\n",
      "+--------------------+----------+-------------+------------+\n",
      "|19581e27de7ced00f...|         4|    102541.00|    25635.25|\n",
      "|2c624232cdd221771...|         5|     48821.00|     9764.20|\n",
      "|4b227777d4dd1fc61...|         4|     25371.00|     6342.75|\n",
      "|4e07408562bedb8b6...|         6|    155726.00|    25954.33|\n",
      "|6b86b273ff34fce19...|         2|     28688.00|    14344.00|\n",
      "|7902699be42c8a8e4...|         5|    135581.00|    27116.20|\n",
      "|d4735e3a265e16eee...|         9|    169961.00|    18884.56|\n",
      "|e7f6c011776e8db7c...|         1|      9201.00|     9201.00|\n",
      "|ef2d127de37b942ba...|         8|    126120.00|    15765.00|\n",
      "+--------------------+----------+-------------+------------+\n",
      "\n"
     ]
    }
   ],
   "source": [
    "vendas_por_vendedor_df = (spark.read.parquet('./lab/jobs/views/vendas_por_vendedor')) # ./views/faturamento_diario\n",
    "vendas_por_vendedor_df.show()"
   ]
  },
  {
   "cell_type": "code",
   "execution_count": null,
   "metadata": {},
   "outputs": [],
   "source": []
  }
 ],
 "metadata": {
  "kernelspec": {
   "display_name": "Python 3",
   "language": "python",
   "name": "python3"
  },
  "language_info": {
   "codemirror_mode": {
    "name": "ipython",
    "version": 3
   },
   "file_extension": ".py",
   "mimetype": "text/x-python",
   "name": "python",
   "nbconvert_exporter": "python",
   "pygments_lexer": "ipython3",
   "version": "3.10.12"
  }
 },
 "nbformat": 4,
 "nbformat_minor": 2
}
