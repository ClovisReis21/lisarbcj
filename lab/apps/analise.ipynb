{
 "cells": [
  {
   "cell_type": "code",
   "execution_count": 2,
   "id": "2f3c814d",
   "metadata": {},
   "outputs": [],
   "source": [
    "from pyspark.sql import SparkSession"
   ]
  },
  {
   "cell_type": "code",
   "execution_count": 3,
   "id": "fa50b74d",
   "metadata": {},
   "outputs": [
    {
     "name": "stderr",
     "output_type": "stream",
     "text": [
      "25/06/14 21:16:50 WARN Utils: Your hostname, cj-OptiPlex-3020 resolves to a loopback address: 127.0.1.1; using 192.168.15.34 instead (on interface enp2s0)\n",
      "25/06/14 21:16:50 WARN Utils: Set SPARK_LOCAL_IP if you need to bind to another address\n"
     ]
    },
    {
     "name": "stdout",
     "output_type": "stream",
     "text": [
      ":: loading settings :: url = jar:file:/home/cj/.local/lib/python3.10/site-packages/pyspark/jars/ivy-2.5.1.jar!/org/apache/ivy/core/settings/ivysettings.xml\n"
     ]
    },
    {
     "name": "stderr",
     "output_type": "stream",
     "text": [
      "Ivy Default Cache set to: /home/cj/.ivy2/cache\n",
      "The jars for the packages stored in: /home/cj/.ivy2/jars\n",
      "org.apache.iceberg#iceberg-spark-runtime-3.5_2.12 added as a dependency\n",
      "org.projectnessie.nessie-integrations#nessie-spark-extensions-3.5_2.12 added as a dependency\n",
      "org.apache.iceberg#iceberg-nessie added as a dependency\n",
      ":: resolving dependencies :: org.apache.spark#spark-submit-parent-e9d6fc64-61e6-4668-a28e-a13659aeea63;1.0\n",
      "\tconfs: [default]\n",
      "\tfound org.apache.iceberg#iceberg-spark-runtime-3.5_2.12;1.9.0 in central\n",
      "\tfound org.projectnessie.nessie-integrations#nessie-spark-extensions-3.5_2.12;0.103.3 in central\n",
      "\tfound org.apache.iceberg#iceberg-nessie;1.9.0 in central\n",
      "\tfound org.apache.iceberg#iceberg-api;1.9.0 in central\n",
      "\tfound org.slf4j#slf4j-api;2.0.17 in central\n",
      "\tfound org.apache.iceberg#iceberg-bundled-guava;1.9.0 in central\n",
      "\tfound org.apache.iceberg#iceberg-common;1.9.0 in central\n",
      "\tfound org.apache.iceberg#iceberg-core;1.9.0 in central\n",
      "\tfound org.apache.avro#avro;1.12.0 in central\n",
      "\tfound com.fasterxml.jackson.core#jackson-core;2.18.3 in central\n",
      "\tfound com.fasterxml.jackson.core#jackson-databind;2.18.3 in central\n",
      "\tfound com.fasterxml.jackson.core#jackson-annotations;2.18.3 in central\n",
      "\tfound org.apache.commons#commons-compress;1.26.2 in central\n",
      "\tfound commons-codec#commons-codec;1.17.0 in central\n",
      "\tfound commons-io#commons-io;2.16.1 in central\n",
      "\tfound org.apache.commons#commons-lang3;3.15.0 in central\n",
      "\tfound io.airlift#aircompressor;0.27 in central\n",
      "\tfound org.apache.httpcomponents.client5#httpclient5;5.4.3 in central\n",
      "\tfound org.apache.httpcomponents.core5#httpcore5;5.3.4 in central\n",
      "\tfound org.apache.httpcomponents.core5#httpcore5-h2;5.3.4 in central\n",
      "\tfound com.github.ben-manes.caffeine#caffeine;2.9.3 in central\n",
      "\tfound org.checkerframework#checker-qual;3.19.0 in central\n",
      "\tfound com.google.errorprone#error_prone_annotations;2.10.0 in central\n",
      "\tfound org.roaringbitmap#RoaringBitmap;1.3.0 in central\n",
      "\tfound org.projectnessie.nessie#nessie-client;0.103.3 in central\n",
      "\tfound org.projectnessie.nessie#nessie-model;0.103.3 in central\n",
      "\tfound org.eclipse.microprofile.openapi#microprofile-openapi-api;4.0.2 in central\n",
      ":: resolution report :: resolve 1051ms :: artifacts dl 96ms\n",
      "\t:: modules in use:\n",
      "\tcom.fasterxml.jackson.core#jackson-annotations;2.18.3 from central in [default]\n",
      "\tcom.fasterxml.jackson.core#jackson-core;2.18.3 from central in [default]\n",
      "\tcom.fasterxml.jackson.core#jackson-databind;2.18.3 from central in [default]\n",
      "\tcom.github.ben-manes.caffeine#caffeine;2.9.3 from central in [default]\n",
      "\tcom.google.errorprone#error_prone_annotations;2.10.0 from central in [default]\n",
      "\tcommons-codec#commons-codec;1.17.0 from central in [default]\n",
      "\tcommons-io#commons-io;2.16.1 from central in [default]\n",
      "\tio.airlift#aircompressor;0.27 from central in [default]\n",
      "\torg.apache.avro#avro;1.12.0 from central in [default]\n",
      "\torg.apache.commons#commons-compress;1.26.2 from central in [default]\n",
      "\torg.apache.commons#commons-lang3;3.15.0 from central in [default]\n",
      "\torg.apache.httpcomponents.client5#httpclient5;5.4.3 from central in [default]\n",
      "\torg.apache.httpcomponents.core5#httpcore5;5.3.4 from central in [default]\n",
      "\torg.apache.httpcomponents.core5#httpcore5-h2;5.3.4 from central in [default]\n",
      "\torg.apache.iceberg#iceberg-api;1.9.0 from central in [default]\n",
      "\torg.apache.iceberg#iceberg-bundled-guava;1.9.0 from central in [default]\n",
      "\torg.apache.iceberg#iceberg-common;1.9.0 from central in [default]\n",
      "\torg.apache.iceberg#iceberg-core;1.9.0 from central in [default]\n",
      "\torg.apache.iceberg#iceberg-nessie;1.9.0 from central in [default]\n",
      "\torg.apache.iceberg#iceberg-spark-runtime-3.5_2.12;1.9.0 from central in [default]\n",
      "\torg.checkerframework#checker-qual;3.19.0 from central in [default]\n",
      "\torg.eclipse.microprofile.openapi#microprofile-openapi-api;4.0.2 from central in [default]\n",
      "\torg.projectnessie.nessie#nessie-client;0.103.3 from central in [default]\n",
      "\torg.projectnessie.nessie#nessie-model;0.103.3 from central in [default]\n",
      "\torg.projectnessie.nessie-integrations#nessie-spark-extensions-3.5_2.12;0.103.3 from central in [default]\n",
      "\torg.roaringbitmap#RoaringBitmap;1.3.0 from central in [default]\n",
      "\torg.slf4j#slf4j-api;2.0.17 from central in [default]\n",
      "\t:: evicted modules:\n",
      "\torg.slf4j#slf4j-api;2.0.13 by [org.slf4j#slf4j-api;2.0.17] in [default]\n",
      "\torg.slf4j#slf4j-api;1.7.36 by [org.slf4j#slf4j-api;2.0.17] in [default]\n",
      "\t---------------------------------------------------------------------\n",
      "\t|                  |            modules            ||   artifacts   |\n",
      "\t|       conf       | number| search|dwnlded|evicted|| number|dwnlded|\n",
      "\t---------------------------------------------------------------------\n",
      "\t|      default     |   29  |   0   |   0   |   2   ||   27  |   0   |\n",
      "\t---------------------------------------------------------------------\n",
      ":: retrieving :: org.apache.spark#spark-submit-parent-e9d6fc64-61e6-4668-a28e-a13659aeea63\n",
      "\tconfs: [default]\n",
      "\t0 artifacts copied, 27 already retrieved (0kB/43ms)\n",
      "25/06/14 21:16:52 WARN NativeCodeLoader: Unable to load native-hadoop library for your platform... using builtin-java classes where applicable\n",
      "Setting default log level to \"WARN\".\n",
      "To adjust logging level use sc.setLogLevel(newLevel). For SparkR, use setLogLevel(newLevel).\n"
     ]
    },
    {
     "data": {
      "text/html": [
       "\n",
       "            <div>\n",
       "                <p><b>SparkSession - in-memory</b></p>\n",
       "                \n",
       "        <div>\n",
       "            <p><b>SparkContext</b></p>\n",
       "\n",
       "            <p><a href=\"http://192.168.15.34:4040\">Spark UI</a></p>\n",
       "\n",
       "            <dl>\n",
       "              <dt>Version</dt>\n",
       "                <dd><code>v3.5.1</code></dd>\n",
       "              <dt>Master</dt>\n",
       "                <dd><code>local[*]</code></dd>\n",
       "              <dt>AppName</dt>\n",
       "                <dd><code>Iceberg + Nessie</code></dd>\n",
       "            </dl>\n",
       "        </div>\n",
       "        \n",
       "            </div>\n",
       "        "
      ],
      "text/plain": [
       "<pyspark.sql.session.SparkSession at 0x767d821f45e0>"
      ]
     },
     "execution_count": 3,
     "metadata": {},
     "output_type": "execute_result"
    }
   ],
   "source": [
    "spark = SparkSession.builder \\\n",
    "    .appName(\"Iceberg + Nessie\") \\\n",
    "    .config('spark.jars.packages',\n",
    "            'org.apache.iceberg:iceberg-spark-runtime-3.5_2.12:1.9.0,org.projectnessie.nessie-integrations:nessie-spark-extensions-3.5_2.12:0.103.3,org.apache.iceberg:iceberg-nessie:1.9.0') \\\n",
    "    .config(\"spark.sql.catalog.nessie\", \"org.apache.iceberg.spark.SparkCatalog\") \\\n",
    "    .config(\"spark.sql.catalog.nessie.catalog-impl\", \"org.apache.iceberg.nessie.NessieCatalog\") \\\n",
    "    .config(\"spark.sql.catalog.nessie.uri\", \"http://localhost:19120/api/v1\") \\\n",
    "    .config(\"spark.sql.catalog.nessie.ref\", \"main\") \\\n",
    "    .config(\"spark.sql.catalog.nessie.warehouse\", \"hdfs://172.28.0.11:8020/warehouse\") \\\n",
    "    .getOrCreate()\n",
    "spark"
   ]
  },
  {
   "cell_type": "code",
   "execution_count": null,
   "id": "09643a65",
   "metadata": {},
   "outputs": [],
   "source": [
    "# # Garante que o namespace exista\n",
    "# spark.sql(\"CREATE NAMESPACE IF NOT EXISTS nessie.data\")\n",
    "# spark.sql(\"CREATE NAMESPACE IF NOT EXISTS nessie.new_data\")\n",
    "# spark.sql(\"CREATE NAMESPACE IF NOT EXISTS nessie.batch\")\n",
    "# spark.sql(\"CREATE NAMESPACE IF NOT EXISTS nessie.speed\")"
   ]
  },
  {
   "cell_type": "code",
   "execution_count": 12,
   "id": "5037beec",
   "metadata": {},
   "outputs": [
    {
     "name": "stdout",
     "output_type": "stream",
     "text": [
      "\"nessie.new_data\"\n",
      "+---------+---------------------------+-----------+\n",
      "|namespace|tableName                  |isTemporary|\n",
      "+---------+---------------------------+-----------+\n",
      "|new_data |clientes_20250614T182256   |false      |\n",
      "|new_data |itens_venda_20250614T183644|false      |\n",
      "|new_data |itens_venda_20250614T190255|false      |\n",
      "|new_data |itens_venda_20250614T190335|false      |\n",
      "|new_data |itens_venda_20250614T212103|false      |\n",
      "|new_data |new_data_map               |false      |\n",
      "|new_data |produtos_20250614T182256   |false      |\n",
      "|new_data |vendas_20250614T183639     |false      |\n",
      "|new_data |vendas_20250614T190250     |false      |\n",
      "|new_data |vendas_20250614T190330     |false      |\n",
      "|new_data |vendas_20250614T212058     |false      |\n",
      "|new_data |vendedores_20250614T182256 |false      |\n",
      "+---------+---------------------------+-----------+\n",
      "\n"
     ]
    }
   ],
   "source": [
    "print('\"nessie.new_data\"')\n",
    "spark.sql(\"SHOW TABLES IN nessie.new_data\").show(truncate=False)"
   ]
  },
  {
   "cell_type": "code",
   "execution_count": 13,
   "id": "d9177546",
   "metadata": {},
   "outputs": [
    {
     "name": "stdout",
     "output_type": "stream",
     "text": [
      "+-----------+-------------------+-------------------------------------------+\n",
      "|table      |date               |path                                       |\n",
      "+-----------+-------------------+-------------------------------------------+\n",
      "|vendedores |2025-06-14 18:22:56|nessie.new_data.vendedores_20250614T182256 |\n",
      "|itens_venda|2025-06-14 19:03:35|nessie.new_data.itens_venda_20250614T190335|\n",
      "|vendas     |2025-06-14 18:36:39|nessie.new_data.vendas_20250614T183639     |\n",
      "|vendas     |2025-06-14 21:20:58|nessie.new_data.vendas_20250614T212058     |\n",
      "|itens_venda|2025-06-14 19:02:55|nessie.new_data.itens_venda_20250614T190255|\n",
      "|vendas     |2025-06-14 19:03:30|nessie.new_data.vendas_20250614T190330     |\n",
      "|produtos   |2025-06-14 18:22:56|nessie.new_data.produtos_20250614T182256   |\n",
      "|itens_venda|2025-06-14 18:36:44|nessie.new_data.itens_venda_20250614T183644|\n",
      "|itens_venda|2025-06-14 21:21:03|nessie.new_data.itens_venda_20250614T212103|\n",
      "|clientes   |2025-06-14 18:22:56|nessie.new_data.clientes_20250614T182256   |\n",
      "|vendas     |2025-06-14 19:02:50|nessie.new_data.vendas_20250614T190250     |\n",
      "+-----------+-------------------+-------------------------------------------+\n",
      "\n"
     ]
    }
   ],
   "source": [
    "faturamento_diario_df=spark.read.table('nessie.new_data.new_data_map')\n",
    "faturamento_diario_df.show(truncate=False)"
   ]
  },
  {
   "cell_type": "code",
   "execution_count": 6,
   "id": "b0ec18b9",
   "metadata": {},
   "outputs": [
    {
     "name": "stdout",
     "output_type": "stream",
     "text": [
      "\"nessie.data\"\n",
      "+---------+-----------+-----------+\n",
      "|namespace|tableName  |isTemporary|\n",
      "+---------+-----------+-----------+\n",
      "|data     |clientes   |false      |\n",
      "|data     |itens_venda|false      |\n",
      "|data     |produtos   |false      |\n",
      "|data     |vendas     |false      |\n",
      "|data     |vendedores |false      |\n",
      "+---------+-----------+-----------+\n",
      "\n"
     ]
    }
   ],
   "source": [
    "print('\"nessie.data\"')\n",
    "spark.sql(\"SHOW TABLES IN nessie.data\").show(truncate=False)"
   ]
  },
  {
   "cell_type": "code",
   "execution_count": 7,
   "id": "742a9a10",
   "metadata": {},
   "outputs": [
    {
     "name": "stdout",
     "output_type": "stream",
     "text": [
      "+--------+-----------+----------+----------+--------+-------------------+\n",
      "|id_venda|id_vendedor|id_cliente|data      |total   |criacao            |\n",
      "+--------+-----------+----------+----------+--------+-------------------+\n",
      "|1       |8          |247       |2025-06-14|1128.00 |2025-06-14 18:23:00|\n",
      "|2       |1          |30        |2025-06-14|36804.00|2025-06-14 18:23:05|\n",
      "|3       |9          |125       |2025-06-14|1128.00 |2025-06-14 18:23:10|\n",
      "|4       |4          |96        |2025-06-14|27603.00|2025-06-14 18:23:15|\n",
      "|5       |9          |205       |2025-06-14|61964.00|2025-06-14 18:23:20|\n",
      "|6       |3          |62        |2025-06-14|2966.00 |2025-06-14 18:23:25|\n",
      "|7       |7          |139       |2025-06-14|7658.00 |2025-06-14 18:23:30|\n",
      "|8       |3          |216       |2025-06-14|564.00  |2025-06-14 18:23:35|\n",
      "|9       |3          |54        |2025-06-14|920.00  |2025-06-14 18:23:40|\n",
      "|10      |8          |60        |2025-06-14|2966.00 |2025-06-14 18:23:45|\n",
      "|11      |4          |64        |2025-06-14|8898.00 |2025-06-14 18:23:50|\n",
      "|12      |3          |85        |2025-06-14|17704.00|2025-06-14 18:23:55|\n",
      "|13      |9          |248       |2025-06-14|30632.00|2025-06-14 18:24:00|\n",
      "|14      |1          |193       |2025-06-14|17704.00|2025-06-14 18:24:05|\n",
      "|15      |1          |10        |2025-06-14|23640.00|2025-06-14 18:24:10|\n",
      "|16      |5          |131       |2025-06-14|14830.00|2025-06-14 18:24:15|\n",
      "|17      |7          |158       |2025-06-14|30632.00|2025-06-14 18:24:20|\n",
      "|18      |9          |190       |2025-06-14|64407.00|2025-06-14 18:24:25|\n",
      "|19      |6          |25        |2025-06-14|690.00  |2025-06-14 18:24:30|\n",
      "|20      |1          |202       |2025-06-14|8510.00 |2025-06-14 18:24:35|\n",
      "+--------+-----------+----------+----------+--------+-------------------+\n",
      "only showing top 20 rows\n",
      "\n"
     ]
    }
   ],
   "source": [
    "\n",
    "faturamento_diario_df=spark.read.table('nessie.data.vendas')\n",
    "faturamento_diario_df.show(truncate=False)"
   ]
  },
  {
   "cell_type": "code",
   "execution_count": 8,
   "id": "1e36ee71",
   "metadata": {},
   "outputs": [
    {
     "name": "stdout",
     "output_type": "stream",
     "text": [
      "\"nessie.batch\"\n",
      "+---------+--------------------+-----------+\n",
      "|namespace|tableName           |isTemporary|\n",
      "+---------+--------------------+-----------+\n",
      "|batch    |faturamento_diario  |false      |\n",
      "|batch    |ticket_medio_cliente|false      |\n",
      "|batch    |vendas_por_vendedor |false      |\n",
      "+---------+--------------------+-----------+\n",
      "\n"
     ]
    }
   ],
   "source": [
    "print('\"nessie.batch\"')\n",
    "spark.sql(\"SHOW TABLES IN nessie.batch\").show(truncate=False)"
   ]
  },
  {
   "cell_type": "code",
   "execution_count": 9,
   "id": "6d512095",
   "metadata": {},
   "outputs": [
    {
     "name": "stdout",
     "output_type": "stream",
     "text": [
      "+----------+--------+----------+--------------+------------+\n",
      "|      data|maior_id|qtd_vendas|total_faturado|ticket_medio|\n",
      "+----------+--------+----------+--------------+------------+\n",
      "|2025-06-14|     474|       474|    8460282.00|    17848.70|\n",
      "+----------+--------+----------+--------------+------------+\n",
      "\n"
     ]
    },
    {
     "data": {
      "text/plain": [
       "1"
      ]
     },
     "execution_count": 9,
     "metadata": {},
     "output_type": "execute_result"
    }
   ],
   "source": [
    "ticket_medio_cliente_df=spark.read.table('nessie.batch.faturamento_diario')\n",
    "ticket_medio_cliente_df.show(truncate=True)\n",
    "ticket_medio_cliente_df.count()"
   ]
  },
  {
   "cell_type": "code",
   "execution_count": 10,
   "id": "24327190",
   "metadata": {},
   "outputs": [
    {
     "name": "stdout",
     "output_type": "stream",
     "text": [
      "+--------------------+--------+----------+-----------+------------+\n",
      "|     hash_id_cliente|maior_id|qtd_vendas|total_gasto|ticket_medio|\n",
      "+--------------------+--------+----------+-----------+------------+\n",
      "|011af72a910ac4acf...|     406|         2|   23284.00|    11642.00|\n",
      "|01d54579da446ae1e...|     390|         1|     575.00|      575.00|\n",
      "|02d20bbd7e394ad59...|     306|         1|     690.00|      690.00|\n",
      "|031b4af5197ec30a9...|     471|         3|   53695.00|    17898.33|\n",
      "|05ada863a4cf9660f...|     337|         3|    1498.00|      499.33|\n",
      "|08490295488a11890...|     474|         1|   11820.00|    11820.00|\n",
      "|0a2d643bfd24a028c...|     331|         3|    1369.00|      456.33|\n",
      "|0b918943df0962bc7...|     463|         5|   84934.00|    16986.80|\n",
      "|0e17daca5f3e175f4...|     136|         2|   65470.00|    32735.00|\n",
      "|0f4121d0ef1df4c86...|     380|         4|   87757.00|    21939.25|\n",
      "|0f8ef3377b30fc47f...|     131|         4|  194349.00|    48587.25|\n",
      "|0fd42b3f73c448b34...|     183|         2|     951.00|      475.50|\n",
      "|0fecf9247f3ddc84d...|     372|         1|   23728.00|    23728.00|\n",
      "|108c995b953c8a355...|     459|         1|    1504.00|     1504.00|\n",
      "|114bd151f8fb0c586...|     263|         2|   54813.00|    27406.50|\n",
      "|1253e9373e781b750...|     364|         3|  106844.00|    35614.67|\n",
      "|13671077b66a29874...|     426|         2|   31407.00|    15703.50|\n",
      "|138d9e809e386a7b8...|     352|         1|    8865.00|     8865.00|\n",
      "|14063697603e22d60...|     371|         1|   45948.00|    45948.00|\n",
      "|16badfc6202cb3f88...|     366|         2|   24073.00|    12036.50|\n",
      "+--------------------+--------+----------+-----------+------------+\n",
      "only showing top 20 rows\n",
      "\n"
     ]
    },
    {
     "data": {
      "text/plain": [
       "206"
      ]
     },
     "execution_count": 10,
     "metadata": {},
     "output_type": "execute_result"
    }
   ],
   "source": [
    "ticket_medio_cliente_df=spark.read.table('nessie.batch.ticket_medio_cliente')\n",
    "ticket_medio_cliente_df.show(truncate=True)\n",
    "ticket_medio_cliente_df.count()"
   ]
  },
  {
   "cell_type": "code",
   "execution_count": null,
   "id": "e05b0c69",
   "metadata": {},
   "outputs": [],
   "source": []
  },
  {
   "cell_type": "code",
   "execution_count": null,
   "id": "61214638",
   "metadata": {},
   "outputs": [],
   "source": []
  },
  {
   "cell_type": "code",
   "execution_count": null,
   "id": "9310120a",
   "metadata": {},
   "outputs": [],
   "source": [
    "print('\"nessie.speed\"')\n",
    "spark.sql(\"SHOW TABLES IN nessie.speed\").show(truncate=False)"
   ]
  },
  {
   "cell_type": "code",
   "execution_count": 8,
   "id": "48ad25d4",
   "metadata": {},
   "outputs": [
    {
     "name": "stderr",
     "output_type": "stream",
     "text": [
      "                                                                                \r"
     ]
    },
    {
     "name": "stdout",
     "output_type": "stream",
     "text": [
      "+-------------------+-------------------+----------+--------+----------+--------------+------------+\n",
      "|janela_inicio      |janela_fim         |data      |maior_id|qtd_vendas|total_faturado|ticket_medio|\n",
      "+-------------------+-------------------+----------+--------+----------+--------------+------------+\n",
      "|2025-06-13 06:52:10|2025-06-13 06:52:20|2025-06-13|5587    |1         |930.0         |930.0       |\n",
      "|2025-06-13 08:06:00|2025-06-13 08:06:10|2025-06-13|5638    |2         |16556.0       |8278.0      |\n",
      "|2025-06-13 08:04:40|2025-06-13 08:04:50|2025-06-13|5622    |1         |17704.0       |17704.0     |\n",
      "|2025-06-13 08:06:10|2025-06-13 08:06:20|2025-06-13|5640    |2         |63204.0       |31602.0     |\n",
      "|2025-06-13 08:05:20|2025-06-13 08:05:30|2025-06-13|5630    |2         |12750.0       |6375.0      |\n",
      "|2025-06-13 08:05:10|2025-06-13 08:05:20|2025-06-13|5628    |2         |18105.0       |9052.5      |\n",
      "|2025-06-13 08:04:50|2025-06-13 08:05:00|2025-06-13|5624    |2         |64637.0       |32318.5     |\n",
      "|2025-06-13 08:06:20|2025-06-13 08:06:30|2025-06-13|5642    |2         |25362.0       |12681.0     |\n",
      "|2025-06-13 08:05:00|2025-06-13 08:05:10|2025-06-13|5626    |2         |1273.0        |636.5       |\n",
      "|2025-06-13 08:05:30|2025-06-13 08:05:40|2025-06-13|5632    |2         |45702.0       |22851.0     |\n",
      "|2025-06-13 08:05:40|2025-06-13 08:05:50|2025-06-13|5634    |2         |8123.0        |4061.5      |\n",
      "|2025-06-13 08:05:50|2025-06-13 08:06:00|2025-06-13|5636    |2         |41524.0       |20762.0     |\n",
      "|2025-06-13 08:06:40|2025-06-13 08:06:50|2025-06-13|5646    |2         |12050.0       |6025.0      |\n",
      "|2025-06-13 08:06:30|2025-06-13 08:06:40|2025-06-13|5644    |2         |45180.0       |22590.0     |\n",
      "|2025-06-13 06:52:00|2025-06-13 06:52:10|2025-06-13|5586    |2         |9208.0        |4604.0      |\n",
      "+-------------------+-------------------+----------+--------+----------+--------------+------------+\n",
      "\n"
     ]
    },
    {
     "name": "stderr",
     "output_type": "stream",
     "text": [
      "                                                                                \r"
     ]
    },
    {
     "data": {
      "text/plain": [
       "15"
      ]
     },
     "execution_count": 8,
     "metadata": {},
     "output_type": "execute_result"
    }
   ],
   "source": [
    "faturamento_diario_df=spark.read.table('nessie.speed.faturamento_diario')\n",
    "faturamento_diario_df.show(truncate=False)\n",
    "faturamento_diario_df.count()"
   ]
  },
  {
   "cell_type": "code",
   "execution_count": null,
   "id": "f26f7925",
   "metadata": {},
   "outputs": [],
   "source": [
    "ticket_medio_cliente_df=spark.read.table('nessie.speed.ticket_medio_cliente')\n",
    "ticket_medio_cliente_df.show(truncate=False)\n",
    "ticket_medio_cliente_df.count()"
   ]
  },
  {
   "cell_type": "code",
   "execution_count": null,
   "id": "5364f7cf",
   "metadata": {},
   "outputs": [],
   "source": [
    "vendas_por_vendedor_df=spark.read.table('nessie.speed.vendas_por_vendedor')\n",
    "vendas_por_vendedor_df.show(truncate=False)\n",
    "vendas_por_vendedor_df.count()"
   ]
  },
  {
   "cell_type": "code",
   "execution_count": null,
   "id": "07a83905",
   "metadata": {},
   "outputs": [],
   "source": [
    "# spark.sql(\"DROP TABLE IF EXISTS nessie.dwh.homolog\")\n",
    "\n",
    "spark.sql('DROP TABLE IF EXISTS nessie.speed.vendas_por_vendedor')"
   ]
  },
  {
   "cell_type": "code",
   "execution_count": null,
   "id": "87088855",
   "metadata": {},
   "outputs": [],
   "source": [
    "spark.sql(\"DROP NAMESPACE IF EXISTS nessie.new_data CASCADE\")"
   ]
  },
  {
   "cell_type": "code",
   "execution_count": null,
   "id": "e5f597ae",
   "metadata": {},
   "outputs": [],
   "source": [
    "spark.stop()"
   ]
  }
 ],
 "metadata": {
  "kernelspec": {
   "display_name": "Python 3",
   "language": "python",
   "name": "python3"
  },
  "language_info": {
   "codemirror_mode": {
    "name": "ipython",
    "version": 3
   },
   "file_extension": ".py",
   "mimetype": "text/x-python",
   "name": "python",
   "nbconvert_exporter": "python",
   "pygments_lexer": "ipython3",
   "version": "3.10.12"
  }
 },
 "nbformat": 4,
 "nbformat_minor": 5
}
