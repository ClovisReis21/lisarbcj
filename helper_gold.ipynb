{
 "cells": [
  {
   "cell_type": "code",
   "execution_count": 3,
   "metadata": {},
   "outputs": [],
   "source": [
    "from pyspark.sql import SparkSession\n",
    "import pyspark.sql.functions as F"
   ]
  },
  {
   "cell_type": "code",
   "execution_count": 4,
   "metadata": {},
   "outputs": [
    {
     "name": "stderr",
     "output_type": "stream",
     "text": [
      "Warning: Ignoring non-Spark config property: packages\n",
      "25/04/15 06:56:02 WARN Utils: Your hostname, cj-OptiPlex-3020 resolves to a loopback address: 127.0.1.1; using 192.168.15.34 instead (on interface enp2s0)\n",
      "25/04/15 06:56:02 WARN Utils: Set SPARK_LOCAL_IP if you need to bind to another address\n",
      "Setting default log level to \"WARN\".\n",
      "To adjust logging level use sc.setLogLevel(newLevel). For SparkR, use setLogLevel(newLevel).\n",
      "25/04/15 06:56:02 WARN NativeCodeLoader: Unable to load native-hadoop library for your platform... using builtin-java classes where applicable\n",
      "25/04/15 06:56:03 WARN Utils: Service 'SparkUI' could not bind on port 4040. Attempting port 4041.\n",
      "25/04/15 06:56:03 WARN Utils: Service 'SparkUI' could not bind on port 4041. Attempting port 4042.\n",
      "25/04/15 06:56:03 WARN Utils: Service 'SparkUI' could not bind on port 4042. Attempting port 4043.\n"
     ]
    }
   ],
   "source": [
    "spark = (SparkSession.builder\n",
    "    .appName('gold')\n",
    "    .config(\"packages\", \"org.apache.spark:mysql-connector-java-8.0.13.jar\")\n",
    "    .getOrCreate()\n",
    ")\n",
    "spark.sparkContext.setLogLevel(\"OFF\")"
   ]
  },
  {
   "cell_type": "code",
   "execution_count": 6,
   "metadata": {},
   "outputs": [
    {
     "name": "stdout",
     "output_type": "stream",
     "text": [
      "+----------+----------+--------------+------------+\n",
      "|data      |qtd_vendas|total_faturado|ticket_medio|\n",
      "+----------+----------+--------------+------------+\n",
      "|2025-04-14|4000      |73305270      |18326.32    |\n",
      "|2025-04-15|6888      |125181971     |10487.36    |\n",
      "+----------+----------+--------------+------------+\n",
      "\n"
     ]
    }
   ],
   "source": [
    "# TICKET MEDIO\n",
    "ticket_medio_cliente_df = (spark.read.parquet('./lab/jobs/views/gold/faturamento_diario')) # ./views/faturamento_diario\n",
    "ticket_medio_cliente_df.where((F.col('data') > '2025-04-12')).show(10, truncate=False)"
   ]
  },
  {
   "cell_type": "code",
   "execution_count": 24,
   "metadata": {},
   "outputs": [
    {
     "name": "stdout",
     "output_type": "stream",
     "text": [
      "+----------------------------------------------------------------+----------+-----------+------------+\n",
      "|hash_id_cliente                                                 |qtd_vendas|total_gasto|ticket_medio|\n",
      "+----------------------------------------------------------------+----------+-----------+------------+\n",
      "|4ec9599fc203d176a301536c2e091a19bc852759b255bd6818810a42c5fed14a|62        |1086667.0  |17526.89    |\n",
      "|d029fa3a95e174a19934857f535eb9427d967218a36ea014b70ad704bc6c8d1c|55        |779585.0   |14174.27    |\n",
      "|71ee45a3c0db9a9865f7313dd3372cf60dca6479d46261f3542eb9346e4a04d6|50        |874407.0   |17488.14    |\n",
      "|9b871512327c09ce91dd649b3f96a63b7408ef267c8cc5710114e629730cb61f|51        |810983.0   |15901.63    |\n",
      "|6f4b6612125fb3a0daecd2799dfd6c9c299424fd920f9b308110a2c1fbd8f443|53        |1394106.0  |26303.89    |\n",
      "|01d54579da446ae1e75cda808cd188438834fa6249b151269db0f9123c9ddc61|49        |1164718.0  |23769.76    |\n",
      "|8cd2510271575d8430c05368315a87b9c4784c7389a47496080c1e615a2a00b6|51        |1046870.0  |20526.86    |\n",
      "|28dae7c8bde2f3ca608f86d0e16a214dee74c74bee011cdfdd46bc04b655bc14|45        |600920.0   |13353.78    |\n",
      "|e29c9c180c6279b0b02abd6a1801c7c04082cf486ec027aa13515e4f3884bb6b|53        |948382.0   |17894.0     |\n",
      "|86e50149658661312a9e0b35558d84f6c6d3da797f552a9657fe0558ca40cdef|61        |839475.0   |7529.09     |\n",
      "+----------------------------------------------------------------+----------+-----------+------------+\n",
      "only showing top 10 rows\n",
      "\n"
     ]
    }
   ],
   "source": [
    "# TICKET MEDIO\n",
    "vendas_por_vendedor_df = (spark.read.parquet('./lab/jobs/views/gold/ticket_medio_cliente')) # ./views/faturamento_diario\n",
    "vendas_por_vendedor_df.show(10, truncate=False)"
   ]
  },
  {
   "cell_type": "code",
   "execution_count": 25,
   "metadata": {},
   "outputs": [
    {
     "name": "stdout",
     "output_type": "stream",
     "text": [
      "+----------------------------------------------------------------+----------+-------------+------------+\n",
      "|hash_id_vendedor                                                |qtd_vendas|total_vendido|ticket_medio|\n",
      "+----------------------------------------------------------------+----------+-------------+------------+\n",
      "|d4735e3a265e16eee03f59718b9b5d03019c07d8b6c51f90da3a666eec13ab35|1429      |26611025     |12371.43    |\n",
      "|4b227777d4dd1fc61c6f884f48641d02b4d121d3fd328cb08b5531fcacdabf8a|1450      |27334279     |18851.23    |\n",
      "|2c624232cdd221771294dfbb310aca000a0df6ac8b66b696d90ef06fdefb64a3|1386      |24921014     |8458.67     |\n",
      "|4e07408562bedb8b60ce05c1decfe3ad16b72230967de01f640b7e4729b49fce|1352      |24463215     |9595.84     |\n",
      "|ef2d127de37b942baad06145e54b0c619a1f22327b2ebbcfbec78f5564afe39d|1455      |25821284     |17746.59    |\n",
      "|e7f6c011776e8db7cd330b54174fd76f7d0216b612387a5ffcfb81e6f0919683|1479      |26460976     |6539.07     |\n",
      "|7902699be42c8a8e46fbbb4501726517e86b22c56a189f7625a6da49081b2451|1439      |24488280     |8906.34     |\n",
      "|19581e27de7ced00ff1ce50b2047e7a567c76b1cbaebabe5ef03f7c3017bb5b7|1444      |27090196     |15457.9     |\n",
      "|6b86b273ff34fce19d6b804eff5a3f5747ada4eaa22f1d49c01e52ddb7875b4b|1454      |26738687     |18060.1     |\n",
      "+----------------------------------------------------------------+----------+-------------+------------+\n",
      "\n"
     ]
    }
   ],
   "source": [
    "# FATURAMENTO VENDEDOR\n",
    "vendas_por_vendedor_df = (spark.read.parquet('./lab/jobs/views/gold/vendas_por_vendedor')) # ./views/faturamento_diario\n",
    "vendas_por_vendedor_df.show(10, truncate=False)"
   ]
  },
  {
   "cell_type": "code",
   "execution_count": null,
   "metadata": {},
   "outputs": [],
   "source": []
  }
 ],
 "metadata": {
  "kernelspec": {
   "display_name": "Python 3",
   "language": "python",
   "name": "python3"
  },
  "language_info": {
   "codemirror_mode": {
    "name": "ipython",
    "version": 3
   },
   "file_extension": ".py",
   "mimetype": "text/x-python",
   "name": "python",
   "nbconvert_exporter": "python",
   "pygments_lexer": "ipython3",
   "version": "3.10.12"
  }
 },
 "nbformat": 4,
 "nbformat_minor": 2
}
