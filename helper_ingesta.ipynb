{
 "cells": [
  {
   "cell_type": "code",
   "execution_count": 28,
   "metadata": {},
   "outputs": [],
   "source": [
    "from pyspark.sql import SparkSession\n",
    "import pyspark.sql.functions as F"
   ]
  },
  {
   "cell_type": "code",
   "execution_count": 29,
   "metadata": {},
   "outputs": [],
   "source": [
    "spark = (SparkSession.builder\n",
    "    .appName('Tester')\n",
    "    .config(\"packages\", \"org.apache.spark:mysql-connector-java-8.0.13.jar\")\n",
    "    .getOrCreate()\n",
    ")\n",
    "spark.sparkContext.setLogLevel(\"OFF\")"
   ]
  },
  {
   "cell_type": "code",
   "execution_count": null,
   "metadata": {},
   "outputs": [
    {
     "name": "stdout",
     "output_type": "stream",
     "text": [
      "./lab/jobs/data/vendas\n"
     ]
    }
   ],
   "source": [
    "bases = [\"vendedores\", \"vendas\", \"produtos\", \"clientes\", \"itens_venda\"]\n",
    "pathData = f'./lab/jobs/data/vendas'\n",
    "print(pathData)\n",
    "df = (spark.read.parquet('./lab/jobs/data/vendas'))"
   ]
  },
  {
   "cell_type": "code",
   "execution_count": null,
   "metadata": {},
   "outputs": [
    {
     "name": "stdout",
     "output_type": "stream",
     "text": [
      "+--------+-----------+----------+----------+--------+-------------------+\n",
      "|id_venda|id_vendedor|id_cliente|data      |total   |criacao            |\n",
      "+--------+-----------+----------+----------+--------+-------------------+\n",
      "|1963    |5          |95        |2025-03-06|30632.00|2025-04-05 23:11:05|\n",
      "|1964    |1          |141       |2025-03-06|38290.00|2025-04-05 23:11:10|\n",
      "|1965    |4          |82        |2025-03-06|38290.00|2025-04-05 23:11:15|\n",
      "|2020    |1          |215       |2025-03-06|8865.00 |2025-04-05 23:15:51|\n",
      "|2021    |6          |124       |2025-03-06|8510.00 |2025-04-05 23:15:56|\n",
      "|2022    |1          |13        |2025-03-06|9201.00 |2025-04-05 23:16:01|\n",
      "|2186    |3          |26        |2025-03-06|5910.00 |2025-04-05 23:29:41|\n",
      "|2187    |5          |160       |2025-03-06|46005.00|2025-04-05 23:29:46|\n",
      "|2188    |4          |240       |2025-03-06|73608.00|2025-04-05 23:29:51|\n",
      "|2196    |1          |108       |2025-03-06|73608.00|2025-04-05 23:30:31|\n",
      "|2197    |4          |178       |2025-03-06|920.00  |2025-04-05 23:30:36|\n",
      "|2198    |6          |193       |2025-03-06|930.00  |2025-04-05 23:30:41|\n",
      "|2208    |4          |195       |2025-03-06|15316.00|2025-04-05 23:31:32|\n",
      "|2209    |6          |131       |2025-03-06|23728.00|2025-04-05 23:31:37|\n",
      "|2210    |8          |71        |2025-03-06|20685.00|2025-04-05 23:31:42|\n",
      "|3026    |1          |231       |2025-03-07|29785.00|2025-04-06 22:53:49|\n",
      "+--------+-----------+----------+----------+--------+-------------------+\n",
      "\n"
     ]
    }
   ],
   "source": [
    "(spark.read.parquet('./lab/jobs/data/vendas')).where(\n",
    "    (F.col('criacao') > F.lit('2025-04-05 23:11:00')) & (F.col('criacao') < F.lit('2025-04-05 23:11:20'))\n",
    "    | (F.col('criacao') > F.lit('2025-04-05 23:15:50')) & (F.col('criacao') < F.lit('2025-04-05 23:16:05'))\n",
    "    | (F.col('criacao') > F.lit('2025-04-05 23:29:40')) & (F.col('criacao') < F.lit('2025-04-05 23:29:55'))\n",
    "    | (F.col('criacao') > F.lit('2025-04-05 23:30:30')) & (F.col('criacao') < F.lit('2025-04-05 23:30:45'))\n",
    "    | (F.col('criacao') > F.lit('2025-04-05 23:31:30')) & (F.col('criacao') < F.lit('2025-04-05 23:31:45'))\n",
    "    | (F.col('criacao') > F.lit('2025-04-06 22:53:45'))\n",
    ").sort('criacao').show(100, truncate=False)"
   ]
  },
  {
   "cell_type": "code",
   "execution_count": null,
   "metadata": {},
   "outputs": [],
   "source": []
  }
 ],
 "metadata": {
  "kernelspec": {
   "display_name": "Python 3",
   "language": "python",
   "name": "python3"
  },
  "language_info": {
   "codemirror_mode": {
    "name": "ipython",
    "version": 3
   },
   "file_extension": ".py",
   "mimetype": "text/x-python",
   "name": "python",
   "nbconvert_exporter": "python",
   "pygments_lexer": "ipython3",
   "version": "3.10.12"
  }
 },
 "nbformat": 4,
 "nbformat_minor": 2
}
