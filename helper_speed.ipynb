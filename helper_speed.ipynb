{
 "cells": [
  {
   "cell_type": "code",
   "execution_count": 332,
   "metadata": {},
   "outputs": [],
   "source": [
    "from pyspark.sql import SparkSession\n",
    "import pyspark.sql.functions as F"
   ]
  },
  {
   "cell_type": "code",
   "execution_count": 333,
   "metadata": {},
   "outputs": [],
   "source": [
    "spark = (SparkSession.builder\n",
    "    .appName('Tester')\n",
    "    .config(\"packages\", \"org.apache.spark:mysql-connector-java-8.0.13.jar\")\n",
    "    .getOrCreate()\n",
    ")\n",
    "spark.sparkContext.setLogLevel(\"OFF\")"
   ]
  },
  {
   "cell_type": "code",
   "execution_count": 334,
   "metadata": {},
   "outputs": [
    {
     "name": "stdout",
     "output_type": "stream",
     "text": [
      "+------------------------------------------+----------+--------+----------+--------------+------------+\n",
      "|window                                    |data      |maior_id|qtd_vendas|total_faturado|ticket_medio|\n",
      "+------------------------------------------+----------+--------+----------+--------------+------------+\n",
      "|{2025-04-14 23:46:20, 2025-04-14 23:46:30}|2025-04-15|12888   |8         |43620.0       |5452.5      |\n",
      "|{2025-04-14 23:46:10, 2025-04-14 23:46:20}|2025-04-15|12880   |7         |54672.0       |7810.29     |\n",
      "+------------------------------------------+----------+--------+----------+--------------+------------+\n",
      "\n"
     ]
    }
   ],
   "source": [
    "# FATURAMENTO DIARIO\n",
    "faturamento_diario_df = (spark.read.parquet('./lab/jobs/views/speed/faturamento_diario')) # ./views/faturamento_diario\n",
    "faturamento_diario_df.show(10, truncate=False)"
   ]
  },
  {
   "cell_type": "code",
   "execution_count": 335,
   "metadata": {},
   "outputs": [
    {
     "name": "stdout",
     "output_type": "stream",
     "text": [
      "+------------------------------------------+----------------------------------------------------------------+--------+----------+-----------+------------+\n",
      "|window                                    |hash_id_cliente                                                 |maior_id|qtd_vendas|total_gasto|ticket_medio|\n",
      "+------------------------------------------+----------------------------------------------------------------+--------+----------+-----------+------------+\n",
      "|{2025-04-14 23:46:20, 2025-04-14 23:46:30}|2747b7c718564ba5f066f0523b03e17f6a496b06851333d2d59ab6d863225848|12886   |1         |1085.0     |1085.0      |\n",
      "|{2025-04-14 23:46:10, 2025-04-14 23:46:20}|7902699be42c8a8e46fbbb4501726517e86b22c56a189f7625a6da49081b2451|12875   |1         |12765.0    |12765.0     |\n",
      "|{2025-04-14 23:46:20, 2025-04-14 23:46:30}|0fd42b3f73c448b34940b339f87d07adf116b05c0227aad72e8f0ee90533e699|12887   |1         |460.0      |460.0       |\n",
      "|{2025-04-14 23:46:20, 2025-04-14 23:46:30}|86e50149658661312a9e0b35558d84f6c6d3da797f552a9657fe0558ca40cdef|12883   |1         |1085.0     |1085.0      |\n",
      "|{2025-04-14 23:46:10, 2025-04-14 23:46:20}|6b86b273ff34fce19d6b804eff5a3f5747ada4eaa22f1d49c01e52ddb7875b4b|12880   |1         |8898.0     |8898.0      |\n",
      "|{2025-04-14 23:46:10, 2025-04-14 23:46:20}|4621c1d55fa4e86ce0dae4288302641baac86dd53f76227c892df9d300682d41|12877   |1         |8510.0     |8510.0      |\n",
      "|{2025-04-14 23:46:10, 2025-04-14 23:46:20}|8bcbb4c131df56f7c79066016241cc4bdf4e58db55c4f674e88b22365bd2e2ad|12876   |1         |310.0      |310.0       |\n",
      "|{2025-04-14 23:46:20, 2025-04-14 23:46:30}|8241649609f88ccd2a0a5b233a07a538ec313ff6adf695aa44a969dbca39f67d|12882   |1         |18402.0    |18402.0     |\n",
      "|{2025-04-14 23:46:20, 2025-04-14 23:46:30}|a21855da08cb102d1d217c53dc5824a3a795c1c1a44e971bf01ab9da3a2acbbf|12888   |1         |1128.0     |1128.0      |\n",
      "|{2025-04-14 23:46:20, 2025-04-14 23:46:30}|dbae772db29058a88f9bd830e957c695347c41b6162a7eb9a9ea13def34be56b|12884   |1         |775.0      |775.0       |\n",
      "+------------------------------------------+----------------------------------------------------------------+--------+----------+-----------+------------+\n",
      "only showing top 10 rows\n",
      "\n"
     ]
    }
   ],
   "source": [
    "# TICKET MEDIO\n",
    "ticket_medio_cliente_df = (spark.read.parquet('./lab/jobs/views/speed/ticket_medio_cliente')) # ./views/faturamento_diario\n",
    "ticket_medio_cliente_df.show(10, truncate=False)"
   ]
  },
  {
   "cell_type": "code",
   "execution_count": 336,
   "metadata": {},
   "outputs": [
    {
     "name": "stdout",
     "output_type": "stream",
     "text": [
      "+------------------------------------------+----------------------------------------------------------------+--------+----------+-------------+------------+\n",
      "|window                                    |hash_id_vendedor                                                |maior_id|qtd_vendas|total_vendido|ticket_medio|\n",
      "+------------------------------------------+----------------------------------------------------------------+--------+----------+-------------+------------+\n",
      "|{2025-04-14 23:46:20, 2025-04-14 23:46:30}|d4735e3a265e16eee03f59718b9b5d03019c07d8b6c51f90da3a666eec13ab35|12884   |1         |775.0        |775.0       |\n",
      "|{2025-04-14 23:46:10, 2025-04-14 23:46:20}|19581e27de7ced00ff1ce50b2047e7a567c76b1cbaebabe5ef03f7c3017bb5b7|12880   |3         |27573.0      |9191.0      |\n",
      "|{2025-04-14 23:46:20, 2025-04-14 23:46:30}|4e07408562bedb8b60ce05c1decfe3ad16b72230967de01f640b7e4729b49fce|12883   |1         |1085.0       |1085.0      |\n",
      "|{2025-04-14 23:46:20, 2025-04-14 23:46:30}|19581e27de7ced00ff1ce50b2047e7a567c76b1cbaebabe5ef03f7c3017bb5b7|12882   |1         |18402.0      |18402.0     |\n",
      "|{2025-04-14 23:46:20, 2025-04-14 23:46:30}|e7f6c011776e8db7cd330b54174fd76f7d0216b612387a5ffcfb81e6f0919683|12888   |1         |1128.0       |1128.0      |\n",
      "|{2025-04-14 23:46:10, 2025-04-14 23:46:20}|e7f6c011776e8db7cd330b54174fd76f7d0216b612387a5ffcfb81e6f0919683|12879   |1         |575.0        |575.0       |\n",
      "|{2025-04-14 23:46:20, 2025-04-14 23:46:30}|7902699be42c8a8e46fbbb4501726517e86b22c56a189f7625a6da49081b2451|12887   |2         |1545.0       |772.5       |\n",
      "|{2025-04-14 23:46:10, 2025-04-14 23:46:20}|d4735e3a265e16eee03f59718b9b5d03019c07d8b6c51f90da3a666eec13ab35|12878   |1         |17704.0      |17704.0     |\n",
      "|{2025-04-14 23:46:20, 2025-04-14 23:46:30}|6b86b273ff34fce19d6b804eff5a3f5747ada4eaa22f1d49c01e52ddb7875b4b|12885   |1         |17730.0      |17730.0     |\n",
      "|{2025-04-14 23:46:20, 2025-04-14 23:46:30}|2c624232cdd221771294dfbb310aca000a0df6ac8b66b696d90ef06fdefb64a3|12881   |1         |2955.0       |2955.0      |\n",
      "+------------------------------------------+----------------------------------------------------------------+--------+----------+-------------+------------+\n",
      "only showing top 10 rows\n",
      "\n"
     ]
    }
   ],
   "source": [
    "# FATURAMENTO VENDEDOR\n",
    "vendas_por_vendedor_df = (spark.read.parquet('./lab/jobs/views/speed/vendas_por_vendedor')) # ./views/faturamento_diario\n",
    "vendas_por_vendedor_df.show(10, truncate=False)"
   ]
  }
 ],
 "metadata": {
  "kernelspec": {
   "display_name": "Python 3",
   "language": "python",
   "name": "python3"
  },
  "language_info": {
   "codemirror_mode": {
    "name": "ipython",
    "version": 3
   },
   "file_extension": ".py",
   "mimetype": "text/x-python",
   "name": "python",
   "nbconvert_exporter": "python",
   "pygments_lexer": "ipython3",
   "version": "3.10.12"
  }
 },
 "nbformat": 4,
 "nbformat_minor": 2
}
